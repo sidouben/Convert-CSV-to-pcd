{
  "cells": [
    {
      "cell_type": "markdown",
      "source": [
        "# Convert a directory of CSV files downloaded from Veloview to pcd files"
      ],
      "metadata": {
        "id": "QO1PwxlVrG9g"
      }
    },
    {
      "cell_type": "code",
      "execution_count": null,
      "metadata": {
        "colab": {
          "base_uri": "https://localhost:8080/"
        },
        "id": "ZFdZXdO6MglW",
        "outputId": "f99f031b-c3ac-4a2e-efdb-2cbb01bd82e2"
      },
      "outputs": [
        {
          "output_type": "stream",
          "name": "stdout",
          "text": [
            "Collecting pypcd\n",
            "  Downloading pypcd-0.1.1-py2.py3-none-any.whl (22 kB)\n",
            "Requirement already satisfied: numpy in /usr/local/lib/python3.7/dist-packages (from pypcd) (1.19.5)\n",
            "Collecting python-lzf\n",
            "  Downloading python-lzf-0.2.4.tar.gz (9.3 kB)\n",
            "Building wheels for collected packages: python-lzf\n",
            "  Building wheel for python-lzf (setup.py) ... \u001b[?25l\u001b[?25hdone\n",
            "  Created wheel for python-lzf: filename=python_lzf-0.2.4-cp37-cp37m-linux_x86_64.whl size=23027 sha256=5d1d2e509636d4a96cd6846dba0187259e640482d5f9aafec4f73430e4d0ebed\n",
            "  Stored in directory: /root/.cache/pip/wheels/d1/5b/05/473bf0cd62eae63099399436edbaa0d54ae8de76c130d6d970\n",
            "Successfully built python-lzf\n",
            "Installing collected packages: python-lzf, pypcd\n",
            "Successfully installed pypcd-0.1.1 python-lzf-0.2.4\n"
          ]
        }
      ],
      "source": [
        "!pip install pypcd"
      ]
    },
    {
      "cell_type": "code",
      "execution_count": null,
      "metadata": {
        "id": "mW3b5deecBA6"
      },
      "outputs": [],
      "source": [
        "import getopt,os,sys,csv,numpy as np\n",
        "from io import StringIO\n",
        "from pypcd import pypcd\n",
        "import pprint\n",
        "import pandas as pd  \n",
        "import os\n",
        "import glob"
      ]
    },
    {
      "cell_type": "code",
      "execution_count": null,
      "metadata": {
        "id": "gnUtGdgHbRqH"
      },
      "outputs": [],
      "source": [
        "# use glob to get all the csv files \n",
        "# in the folder\n",
        "path = os.getcwd()\n",
        "csv_files = glob.glob(os.path.join(path, \"*.csv\"))"
      ]
    },
    {
      "cell_type": "code",
      "execution_count": null,
      "metadata": {
        "id": "1LHs4R5Vf-qb"
      },
      "outputs": [],
      "source": [
        "csv_files.sort()"
      ]
    },
    {
      "cell_type": "code",
      "execution_count": null,
      "metadata": {
        "colab": {
          "base_uri": "https://localhost:8080/"
        },
        "id": "X68dwtsNf8kH",
        "outputId": "771569ae-1b1c-4cf7-8631-fbcfd3c2b38a"
      },
      "outputs": [
        {
          "output_type": "stream",
          "name": "stderr",
          "text": [
            "100%|██████████| 100/100 [01:44<00:00,  1.05s/it]\n"
          ]
        }
      ],
      "source": [
        "from tqdm import tqdm\n",
        "name = 0\n",
        "for f in tqdm(range(csv_files)):  \n",
        "    \n",
        "    # read the csv file\n",
        "    data = pd.read_csv(csv_files[f])\n",
        "    cloud = np.array(data)\n",
        "    #print(cloud.shape)\n",
        "    # take X,Y,Z coordinates\n",
        "    X = cloud[:, 7]\n",
        "    Y = cloud[:, 8]\n",
        "    Z = cloud[:, 9]\n",
        "\n",
        "    X = X.astype(np.float32).reshape(1, -1)\n",
        "    Y = Y.astype(np.float32).reshape(1, -1)\n",
        "    Z = Z.astype(np.float32).reshape(1, -2) \n",
        "\n",
        "    blue = (Y/np.max(Y))\n",
        "    n = Y.size\n",
        "    rgb = np.hstack((np.repeat(0.01, n)[:, np.newaxis], np.repeat(0.01, n)[:, np.newaxis], blue.T))\n",
        "    encoded_colors = pypcd.encode_rgb_for_pcl((rgb * 255).astype(np.uint8))\n",
        "    new_data = np.hstack((X.T, Y.T, Z.T, encoded_colors[:, np.newaxis]))\n",
        "\n",
        "    len = new_data.size\n",
        "\n",
        "    md = {'version': .7,\n",
        "          'fields': ['x', 'y', 'z'],\n",
        "          'size': [4, 4, 4],\n",
        "          'type': ['F', 'F', 'F'],\n",
        "          'count': [1, 1, 1],\n",
        "          'width': len,\n",
        "          'height': 1,\n",
        "          'viewpoint': [0.0, 0.0, 0.0, 1.0, 0.0, 0.0, 0.0],\n",
        "          'points': len,\n",
        "          'data': 'ascii'}\n",
        "\n",
        "    new_cloud = pypcd.make_xyz_rgb_point_cloud(new_data)\n",
        "    new_cloud.save( str(name).zfill(4) +'.pcd')\n",
        "    name = name + 1\n"
      ]
    }
  ],
  "metadata": {
    "colab": {
      "provenance": []
    },
    "kernelspec": {
      "display_name": "Python 3",
      "name": "python3"
    },
    "language_info": {
      "name": "python"
    },
    "accelerator": "GPU"
  },
  "nbformat": 4,
  "nbformat_minor": 0
}
